{
  "nbformat": 4,
  "nbformat_minor": 0,
  "metadata": {
    "colab": {
      "name": "Data-Centric Machine Learning: Improving Model Performance and Understanding Through Dataset Analysis",
      "provenance": [],
      "collapsed_sections": [
        "PjWHFhzsJK2g",
        "hopk9mnmMbPD",
        "R1JheRFGcLU7"
      ],
      "toc_visible": true,
      "machine_shape": "hm"
    },
    "kernelspec": {
      "name": "python3",
      "display_name": "Python 3"
    }
  },
  "cells": [
    {
      "cell_type": "markdown",
      "metadata": {
        "id": "0hlhUBnHMfee"
      },
      "source": [
        "# Data-Centric Machine Learning: Improving Model Performance and Understanding Through Dataset Analysis\n",
        "\n",
        "This notebook contains the code for the paper:\n",
        "\n",
        "*Hannes Westermann, Jaromir Savelka, Vern R. Walker, Kevin D. Ashley, Karim Benyekhlef. Data-Centric Machine Learning: Improving Model Performance and Understanding Through Dataset Analysis. Forthcoming in Proceedings of the 34th International Conference on Legal Knowledge and Information Systems (JURIX) 2021, 8-10 December, Vilnius, Lithuania.* \n",
        "\n",
        "The code should be possible to run on Google Colab. To run it, simply:\n",
        "* Select one of the datasets in the \"Data Imports\" section. Execute the code to load the data.\n",
        "* Run the following cells to split the data, create sentence embedding from the sentences, and create the model.\n",
        "* Run the experiment cells to carry out the experiments and generate the visualizations.\n",
        "\n",
        "Created by Hannes Westermann, Cyberjustice Laboratory"
      ]
    },
    {
      "cell_type": "markdown",
      "metadata": {
        "id": "P4Z6Gb0apQzM"
      },
      "source": [
        "# Data imports\n",
        "\n",
        "Run one of the three following sections to load the annotated data from github."
      ]
    },
    {
      "cell_type": "markdown",
      "metadata": {
        "id": "Y-xLtOP5ptGQ"
      },
      "source": [
        "## VetClaims data\n",
        "\n",
        "50  decisions  by  the  U.S.  Board  of  Veterans’  Appeals(BVA),  containing  6153sentences tagged with rhetorical roles.\n",
        "\n",
        "Walker, V. R., et al. “Automatic Classification of Rhetorical Roles for Sentences: Comparing Rule-BasedScripts with Machine Learning.”Proceedings of ASAIL 2019(2019)."
      ]
    },
    {
      "cell_type": "code",
      "metadata": {
        "id": "wUX-vmKypvyj",
        "colab": {
          "base_uri": "https://localhost:8080/"
        },
        "outputId": "947221ca-7f51-432d-f76f-92c30f81de50"
      },
      "source": [
        "!git clone https://github.com/LLTLab/VetClaims-JSON.git"
      ],
      "execution_count": 1,
      "outputs": [
        {
          "output_type": "stream",
          "name": "stdout",
          "text": [
            "Cloning into 'VetClaims-JSON'...\n",
            "remote: Enumerating objects: 187, done.\u001b[K\n",
            "remote: Counting objects: 100% (28/28), done.\u001b[K\n",
            "remote: Compressing objects: 100% (28/28), done.\u001b[K\n",
            "remote: Total 187 (delta 20), reused 0 (delta 0), pack-reused 159\u001b[K\n",
            "Receiving objects: 100% (187/187), 1.85 MiB | 10.65 MiB/s, done.\n",
            "Resolving deltas: 100% (75/75), done.\n"
          ]
        }
      ]
    },
    {
      "cell_type": "code",
      "metadata": {
        "id": "8aw_ET_Vp8zf"
      },
      "source": [
        "import json\n",
        "import os\n",
        "from pathlib import Path\n",
        "from sklearn.model_selection import train_test_split\n",
        "PWD = Path()"
      ],
      "execution_count": 2,
      "outputs": []
    },
    {
      "cell_type": "code",
      "metadata": {
        "id": "DPvgsAWCpwr8"
      },
      "source": [
        "import random\n",
        "\n",
        "cases = []\n",
        "allLabels = {}\n",
        "labelI = 0\n",
        "decisions_dir = PWD/'VetClaims-JSON'/'BVA Decisions JSON Format'\n",
        "for fname in os.listdir(decisions_dir):\n",
        "    case = {\"file_name\": fname, \"sents\": [], \"labels_text\": [], \"labels\": []}\n",
        "    with open(decisions_dir/fname) as jsonf:\n",
        "        dec_data = json.load(jsonf)\n",
        "    for snt in dec_data['sentences']:\n",
        "        case[\"sents\"].append(snt['text'])\n",
        "        curr_lab = snt['rhetRole'][0]\n",
        "        case[\"labels_text\"].append(curr_lab)\n",
        "        if curr_lab in allLabels:\n",
        "            case[\"labels\"].append(allLabels[curr_lab])\n",
        "        else:\n",
        "            allLabels[curr_lab] = labelI\n",
        "            labelI += 1\n",
        "            case[\"labels\"].append(allLabels[curr_lab]) \n",
        "    cases.append(case)\n",
        "unique_labels = [k for k,v in allLabels.items()]\n",
        "num_labels = len(unique_labels)\n",
        "\n",
        "dataset_name = \"BVA\""
      ],
      "execution_count": 3,
      "outputs": []
    },
    {
      "cell_type": "markdown",
      "metadata": {
        "id": "0atJwAWIpWKC"
      },
      "source": [
        "## Supreme Court of India\n",
        "\n",
        "50  opinions  of  the  Supreme  Court  of  India (ISC), containing  9,380  sentences tagged with the rhetorical roles of the sentences.\n",
        "\n",
        "Bhattacharya, P., Paul, S., Ghosh, K., Ghosh, S. & Wyner, A. “Identification of Rhetorical Roles ofSentences in Indian Legal Judgments.” Jurix 2019. pp. 3-12 (2019)."
      ]
    },
    {
      "cell_type": "code",
      "metadata": {
        "id": "rQVnpD5mcpsp"
      },
      "source": [
        "!git clone https://github.com/Law-AI/semantic-segmentation.git"
      ],
      "execution_count": null,
      "outputs": []
    },
    {
      "cell_type": "code",
      "metadata": {
        "id": "cBmqNEzJlRXs"
      },
      "source": [
        "import numpy as np\n",
        "import os\n",
        "import pandas as pd\n",
        "from pathlib import Path\n",
        "from sklearn.metrics import accuracy_score\n",
        "from sklearn.model_selection import train_test_split"
      ],
      "execution_count": null,
      "outputs": []
    },
    {
      "cell_type": "code",
      "metadata": {
        "id": "0QPVnNF1laED"
      },
      "source": [
        "PWD = Path()\n",
        "TEXT_DIR = PWD/'semantic-segmentation'/'data'/'text'"
      ],
      "execution_count": null,
      "outputs": []
    },
    {
      "cell_type": "code",
      "metadata": {
        "id": "akyemYmtjptV"
      },
      "source": [
        "text, labels, file_names = [], [], []\n",
        "cases = []\n",
        "allLabels = {}\n",
        "labelI = 0\n",
        "def process_label(label):\n",
        "    return label.strip().replace(\" \", \"_\")\n",
        "\n",
        "for file_name in os.listdir(TEXT_DIR):\n",
        "    file_path = TEXT_DIR/file_name\n",
        "    with open(file_path) as txt_f:\n",
        "        case = {\"file_name\": file_name, \"sents\": [], \"labels_text\": [], \"labels\": []}\n",
        "        lines = txt_f.readlines()\n",
        "        for i in range(len(lines)):\n",
        "            curr_seq, curr_lab = lines[i].split('\\t')\n",
        "            curr_lab = curr_lab[:-1]\n",
        "            case[\"sents\"].append(curr_seq)\n",
        "            case[\"labels_text\"].append(curr_lab)\n",
        "            if curr_lab in allLabels:\n",
        "                case[\"labels\"].append(allLabels[curr_lab])\n",
        "            else:\n",
        "                allLabels[curr_lab] = labelI\n",
        "                labelI += 1\n",
        "                case[\"labels\"].append(allLabels[curr_lab])\n",
        "        cases.append(case)\n",
        "unique_labels = [k for k,v in allLabels.items()]\n",
        "num_labels = len(unique_labels)\n",
        "\n",
        "print (cases[0])\n",
        "dataset_name = \"ISC\""
      ],
      "execution_count": null,
      "outputs": []
    },
    {
      "cell_type": "code",
      "metadata": {
        "id": "liktJ801EPgu"
      },
      "source": [
        "print (allLabels)"
      ],
      "execution_count": null,
      "outputs": []
    },
    {
      "cell_type": "markdown",
      "metadata": {
        "id": "hopk9mnmMbPD"
      },
      "source": [
        "## Statutory interpretation\n",
        "\n",
        "880 sentences from court opinions mentioning vague statutory terms(StatInt), tagged with usefulness of sentences for statutory interpretation\n",
        "\n",
        "Savelka, J., Xu, H., & Ashley, K. “Improving Sentence Retrieval from Case Law for Statutory Interpre-tation.”Proc. 17th Int’l Conf. on Artificial Intelligence and Law, pp. 113-122. (2019)."
      ]
    },
    {
      "cell_type": "code",
      "metadata": {
        "id": "8I8K3fR4JXD-"
      },
      "source": [
        "!git clone https://github.com/jsavelka/statutory_interpretation.git\n",
        "!unzip statutory_interpretation/iev.zip\n",
        "!unzip statutory_interpretation/cbp.zip\n",
        "!unzip statutory_interpretation/ip.zip"
      ],
      "execution_count": null,
      "outputs": []
    },
    {
      "cell_type": "code",
      "metadata": {
        "id": "_7XPQPL9JxgO"
      },
      "source": [
        "from pathlib import Path\n",
        "PWD = Path()\n",
        "\n",
        "IEV_JSON = PWD/'iev_sentence.json'\n",
        "CBP_JSON = PWD/'cbp_sentence.json'\n",
        "IP_JSON = PWD/'ip_sentence.json'"
      ],
      "execution_count": null,
      "outputs": []
    },
    {
      "cell_type": "code",
      "metadata": {
        "id": "EZNC9tCNJ-UP"
      },
      "source": [
        "sent_id, text, labels, document = [], [], [], []\n",
        "import json\n",
        "import pandas as pd\n",
        "\n",
        "with open(IEV_JSON) as iev_f, open(CBP_JSON) as cbp_f, open(IP_JSON) as ip_f:\n",
        "    #iev_data = json.load(iev_f)\n",
        "    cbp_data = json.load(cbp_f)\n",
        "    #ip_data = json.load(ip_f)\n",
        "    json_data = {}\n",
        "    #json_data.update(iev_data)\n",
        "    json_data.update(cbp_data)\n",
        "    #json_data.update(ip_data)  \n",
        "print (json_data)\n",
        "\n",
        "\n",
        "for snt_id, snt_data in enumerate(json_data.values()):\n",
        "    sent_id.append(snt_id)\n",
        "    text.append(snt_data['text'])\n",
        "    labels.append(snt_data['label'])\n",
        "    document.append(snt_data['case_id'])\n",
        "\n",
        "data_df = pd.DataFrame({\n",
        "    'sent_id': sent_id,\n",
        "    'text': text,\n",
        "    'label': labels,\n",
        "    'document': document\n",
        "})\n",
        "\n",
        "\n",
        "\n",
        "data_df = data_df.astype({'label': 'category'})\n",
        "data_df[\"label_num\"] = data_df[\"label\"].cat.codes\n",
        "\n",
        "print(data_df.shape, '\\n')\n",
        "print(data_df.label.value_counts(), '\\n')\n",
        "print(data_df.iloc[0])"
      ],
      "execution_count": null,
      "outputs": []
    },
    {
      "cell_type": "code",
      "metadata": {
        "id": "BgxhynFzNqZb"
      },
      "source": [
        "from collections import defaultdict\n",
        "\n",
        "\n",
        "cases = []\n",
        "for doc_name in data_df[\"document\"].unique():\n",
        "    case_df = data_df.loc[data_df['document'] == doc_name]\n",
        "    case = {\"file_name\": doc_name, \"sents\": [], \"labels_text\": [], \"labels\": []}\n",
        "    case[\"sents\"] = case_df[\"text\"].values\n",
        "    case[\"labels_text\"] = case_df[\"label\"].values\n",
        "    case[\"labels\"] = list(case_df[\"label_num\"].values)\n",
        "    #case[\"fold\"] = case_df[\"fold\"].values[0]\n",
        "    #case[\"lang\"] = case_df[\"lang\"].values[0]\n",
        "    #case[\"dataset\"] = case_df[\"dataset\"].values[0]\n",
        "    cases.append(case)"
      ],
      "execution_count": null,
      "outputs": []
    },
    {
      "cell_type": "code",
      "metadata": {
        "id": "kGA2ECKDQH9U"
      },
      "source": [
        "unique_labels = list(data_df[\"label\"].cat.categories)\n",
        "num_labels = data_df[\"label\"].nunique()\n",
        "print (unique_labels, num_labels)\n",
        "dataset_name = \"StatInt\""
      ],
      "execution_count": null,
      "outputs": []
    },
    {
      "cell_type": "markdown",
      "metadata": {
        "id": "MWdOLlhDMxlE"
      },
      "source": [
        "# Splits\n",
        "\n",
        "Split the data into train and val set, display information about the distributions of labels."
      ]
    },
    {
      "cell_type": "code",
      "metadata": {
        "id": "ov7nznyGM6zG"
      },
      "source": [
        "from sklearn.model_selection import train_test_split\n",
        "train, val = train_test_split(cases, test_size=0.2, shuffle=True, random_state=42)"
      ],
      "execution_count": 4,
      "outputs": []
    },
    {
      "cell_type": "code",
      "metadata": {
        "colab": {
          "base_uri": "https://localhost:8080/"
        },
        "id": "XXf28tlEM6zG",
        "outputId": "0f0d0497-7490-47d1-ff64-763c59f59295"
      },
      "source": [
        "import collections\n",
        "\n",
        "\n",
        "def getLength(cases):\n",
        "    snts = 0\n",
        "    for case in cases:\n",
        "        for sents in case[\"sents\"]:\n",
        "            snts += 1\n",
        "    return snts\n",
        "print (f\"Train data: {len(train)} documents, {getLength(train)} sentences.\")\n",
        "print (f\"Val data: {len(val)} documents, {getLength(val)} sentences.\")\n",
        "\n",
        "def getCounter(cases):\n",
        "    lst = []\n",
        "    for case in cases:\n",
        "        for l in case[\"labels\"]:\n",
        "            lst.append(l)\n",
        "    c = collections.Counter(lst)\n",
        "    return c, len(lst)\n",
        "\n",
        "c, num_sents = getCounter(cases)\n",
        "print (f\"Total sentences: {num_sents}\")\n",
        "print (\"---------\")\n",
        "print (\"Label distributions: \")\n",
        "x = sorted(c.items(), key=lambda pair: pair[0], reverse=False)\n",
        "for item in x:\n",
        "    print (f\"{item[0]}: ({unique_labels[item[0]]}) - {item[1]} - {round(item[1]/num_sents, 4)}\")"
      ],
      "execution_count": 5,
      "outputs": [
        {
          "output_type": "stream",
          "name": "stdout",
          "text": [
            "Train data: 40 documents, 4775 sentences.\n",
            "Val data: 10 documents, 1378 sentences.\n",
            "Total sentences: 6153\n",
            "---------\n",
            "Label distributions: \n",
            "0: (Sentence) - 477 - 0.0775\n",
            "1: (FindingSentence) - 490 - 0.0796\n",
            "2: (ReasoningSentence) - 710 - 0.1154\n",
            "3: (LegalRuleSentence) - 938 - 0.1524\n",
            "4: (CitationSentence) - 1118 - 0.1817\n",
            "5: (EvidenceSentence) - 2420 - 0.3933\n"
          ]
        }
      ]
    },
    {
      "cell_type": "markdown",
      "metadata": {
        "id": "eh-PUiUsMKa0"
      },
      "source": [
        "# Create embeddings\n",
        "\n",
        "Use the Google Universal Sentence encoder to create embeddings of the sentences in the chosen dataset."
      ]
    },
    {
      "cell_type": "code",
      "metadata": {
        "colab": {
          "base_uri": "https://localhost:8080/"
        },
        "id": "99KI9LTYMMEN",
        "outputId": "5ebe1bb0-ac9d-47d1-9ad4-1a46c90c7590"
      },
      "source": [
        "from absl import logging\n",
        "\n",
        "import tensorflow as tf\n",
        "\n",
        "import tensorflow_hub as hub\n",
        "import matplotlib.pyplot as plt\n",
        "import numpy as np\n",
        "import os\n",
        "import pandas as pd\n",
        "import re\n",
        "import seaborn as sns\n",
        "\n",
        "module_url = \"https://tfhub.dev/google/universal-sentence-encoder/4\" #@param [\"https://tfhub.dev/google/universal-sentence-encoder/4\", \"https://tfhub.dev/google/universal-sentence-encoder-large/5\"]\n",
        "model2 = hub.load(module_url)\n",
        "print (\"module %s loaded\" % module_url)\n",
        "def embed(input):\n",
        "  return model2(input)"
      ],
      "execution_count": 6,
      "outputs": [
        {
          "output_type": "stream",
          "name": "stdout",
          "text": [
            "module https://tfhub.dev/google/universal-sentence-encoder/4 loaded\n"
          ]
        }
      ]
    },
    {
      "cell_type": "code",
      "metadata": {
        "colab": {
          "base_uri": "https://localhost:8080/"
        },
        "id": "tSgdLCHPMMEN",
        "outputId": "e3e87885-8c81-4719-a6c3-c4bc2f133817"
      },
      "source": [
        "%%time\n",
        "from numpy import argmax\n",
        "import math  \n",
        "\n",
        "for t, case in enumerate(cases):\n",
        "    sents = case[\"sents\"]\n",
        "    message_embeddings = embed(sents)\n",
        "    embs = np.array(message_embeddings).tolist()\n",
        "    case[\"embs\"] = embs\n",
        "    print (f\"Created embeddings for case {t+1}/{len(cases)}\")"
      ],
      "execution_count": 7,
      "outputs": [
        {
          "output_type": "stream",
          "name": "stdout",
          "text": [
            "Created embeddings for case 1/50\n",
            "Created embeddings for case 2/50\n",
            "Created embeddings for case 3/50\n",
            "Created embeddings for case 4/50\n",
            "Created embeddings for case 5/50\n",
            "Created embeddings for case 6/50\n",
            "Created embeddings for case 7/50\n",
            "Created embeddings for case 8/50\n",
            "Created embeddings for case 9/50\n",
            "Created embeddings for case 10/50\n",
            "Created embeddings for case 11/50\n",
            "Created embeddings for case 12/50\n",
            "Created embeddings for case 13/50\n",
            "Created embeddings for case 14/50\n",
            "Created embeddings for case 15/50\n",
            "Created embeddings for case 16/50\n",
            "Created embeddings for case 17/50\n",
            "Created embeddings for case 18/50\n",
            "Created embeddings for case 19/50\n",
            "Created embeddings for case 20/50\n",
            "Created embeddings for case 21/50\n",
            "Created embeddings for case 22/50\n",
            "Created embeddings for case 23/50\n",
            "Created embeddings for case 24/50\n",
            "Created embeddings for case 25/50\n",
            "Created embeddings for case 26/50\n",
            "Created embeddings for case 27/50\n",
            "Created embeddings for case 28/50\n",
            "Created embeddings for case 29/50\n",
            "Created embeddings for case 30/50\n",
            "Created embeddings for case 31/50\n",
            "Created embeddings for case 32/50\n",
            "Created embeddings for case 33/50\n",
            "Created embeddings for case 34/50\n",
            "Created embeddings for case 35/50\n",
            "Created embeddings for case 36/50\n",
            "Created embeddings for case 37/50\n",
            "Created embeddings for case 38/50\n",
            "Created embeddings for case 39/50\n",
            "Created embeddings for case 40/50\n",
            "Created embeddings for case 41/50\n",
            "Created embeddings for case 42/50\n",
            "Created embeddings for case 43/50\n",
            "Created embeddings for case 44/50\n",
            "Created embeddings for case 45/50\n",
            "Created embeddings for case 46/50\n",
            "Created embeddings for case 47/50\n",
            "Created embeddings for case 48/50\n",
            "Created embeddings for case 49/50\n",
            "Created embeddings for case 50/50\n",
            "CPU times: user 2.51 s, sys: 335 ms, total: 2.84 s\n",
            "Wall time: 2.28 s\n"
          ]
        }
      ]
    },
    {
      "cell_type": "markdown",
      "metadata": {
        "id": "8tS73ebnrd6H"
      },
      "source": [
        "# Model\n",
        "\n",
        "Run all cells to load the utility functions that create and evaluate the model."
      ]
    },
    {
      "cell_type": "code",
      "metadata": {
        "id": "X0-g5lGnBWnA"
      },
      "source": [
        "# Reset seed for consistent results.\n",
        "from numpy.random import seed\n",
        "\n",
        "import tensorflow as tf\n",
        "\n",
        "\n",
        "def resetSeed():\n",
        "    tf.compat.v1.set_random_seed(1)\n",
        "    seed(1)"
      ],
      "execution_count": 8,
      "outputs": []
    },
    {
      "cell_type": "code",
      "metadata": {
        "id": "So9qJJqeSrrx"
      },
      "source": [
        "from __future__ import print_function\n",
        "import numpy as np\n",
        "\n",
        "from keras.preprocessing import sequence\n",
        "from keras.models import Sequential\n",
        "from keras.layers import Dense, Dropout, Embedding, LSTM, Bidirectional, SpatialDropout1D, BatchNormalization\n",
        "from keras.datasets import imdb\n",
        "import keras\n",
        "import keras.backend as K\n",
        "from keras.callbacks import *\n",
        "from keras.optimizers import *\n",
        "import os\n",
        "\n",
        "\n",
        "max_features = 20000\n",
        "maxlen = 100\n",
        "batch_size = 32\n",
        "\n",
        "reduce_lr = ReduceLROnPlateau(monitor='val_loss', factor=0.1,\n",
        "                            patience=2, min_lr=1e-7, verbose=1)\n",
        "checkpoint_filepath = './tmp/checkpoint.h5'\n",
        "earlyStopping = EarlyStopping(monitor='val_accuracy', patience=30, verbose=1, mode='auto')\n",
        "mcp_save = ModelCheckpoint(checkpoint_filepath, save_best_only=True, monitor='val_accuracy', mode='max', save_weights_only=True,)\n",
        "\n",
        "def getData(cases):\n",
        "    X,y = [],[]\n",
        "    for case in cases:\n",
        "        for i, sent in enumerate(case['embs']):\n",
        "            X.append(sent)\n",
        "            lst = [0]*num_labels\n",
        "            lst[case[\"labels\"][i]] = 1\n",
        "            y.append(lst)\n",
        "    X = np.array(X)\n",
        "    y = np.array(y)\n",
        "    return X,y\n",
        "\n",
        "def getModel():\n",
        "\n",
        "    model = Sequential()\n",
        "    model.add(Dense(256, activation='relu', input_shape=(512,)))\n",
        "    model.add(Dense(num_labels, activation='softmax'))\n",
        "    model.compile('adam', 'categorical_crossentropy', metrics=['accuracy'])\n",
        "\n",
        "\n",
        "\n",
        "    return model\n",
        "\n",
        "from numpy import argmax\n",
        "from sklearn.metrics import classification_report\n",
        "from sklearn.metrics import confusion_matrix, ConfusionMatrixDisplay\n",
        "\n",
        "def trainReturnPreds(train, val):\n",
        "    resetSeed()\n",
        "    model = getModel()\n",
        "    x_train, y_train = getData(train)\n",
        "    mcp_save = ModelCheckpoint(checkpoint_filepath, save_best_only=True, monitor='val_accuracy', mode='max', save_weights_only=True,)\n",
        "    earlyStopping = EarlyStopping(monitor='val_accuracy', patience=30, verbose=1, mode='auto')\n",
        "    history = model.fit(x_train, y_train,\n",
        "            batch_size=batch_size,\n",
        "            epochs=100,\n",
        "            validation_split=0.1,\n",
        "            callbacks=[ mcp_save, earlyStopping])\n",
        "    model.load_weights(checkpoint_filepath)\n",
        "    x_test, y_test = getData(val)\n",
        "    preds = model.predict(x_test)\n",
        "    all_preds = []\n",
        "    all_true = []\n",
        "    for i,pred in enumerate(preds):\n",
        "        all_preds.append(argmax(pred))\n",
        "        all_true.append(argmax(y_test[i]))\n",
        "    return all_preds, all_true\n",
        "\n",
        "def startTraining(train, val):\n",
        "    all_preds, all_true = trainReturnPreds(train, val)\n",
        "    return classification_report(all_true, all_preds, target_names = unique_labels, output_dict = True)\n",
        "\n",
        "def trainPlot(train, val):\n",
        "    all_preds, all_true = trainReturnPreds(train, val)\n",
        "    print (unique_labels)\n",
        "    cm = confusion_matrix(all_true, all_preds)\n",
        "    disp = ConfusionMatrixDisplay(confusion_matrix=cm,\n",
        "                              display_labels=unique_labels\n",
        "                              )\n",
        "    disp.plot(xticks_rotation=\"vertical\", values_format=\"d\") \n",
        "    print(classification_report(all_true, all_preds, target_names = unique_labels))"
      ],
      "execution_count": 9,
      "outputs": []
    },
    {
      "cell_type": "markdown",
      "metadata": {
        "id": "mTJM5D5IIpAM"
      },
      "source": [
        "# Experiments"
      ]
    },
    {
      "cell_type": "markdown",
      "metadata": {
        "id": "VISRuqDxR7_h"
      },
      "source": [
        "## Required utility functions"
      ]
    },
    {
      "cell_type": "code",
      "metadata": {
        "id": "LGJuMwbSC_ji"
      },
      "source": [
        "# Utility functions to save results to a file, load results from file for easier plotting.\n",
        "\n",
        "import json\n",
        "!mkdir results\n",
        "!mkdir images\n",
        "def save_results(experiment, ds, results):\n",
        "    with open(f\"results/{experiment}-{ds}.json\", \"w\") as outfile:\n",
        "        json.dump(results, outfile)\n",
        "\n",
        "def load_results(experiment, ds):\n",
        "    print (f\"Loading results/{experiment}-{ds}.json\")\n",
        "    with open(f\"results/{experiment}-{ds}.json\", \"r\") as infile:\n",
        "        return json.load(infile)"
      ],
      "execution_count": 10,
      "outputs": []
    },
    {
      "cell_type": "code",
      "metadata": {
        "id": "rMzXWb61Det_"
      },
      "source": [
        "# Function to rename label\n",
        "\n",
        "def mapLabel(label):\n",
        "    if label == \"Sentence\":\n",
        "        return \"Other\"\n",
        "    else:\n",
        "        return label\n",
        "\n",
        "!mkdir \"tmp\""
      ],
      "execution_count": 13,
      "outputs": []
    },
    {
      "cell_type": "markdown",
      "metadata": {
        "id": "WMMiFGwmJES6"
      },
      "source": [
        "## E1 - Sample-Size Sensitivity"
      ]
    },
    {
      "cell_type": "code",
      "metadata": {
        "colab": {
          "base_uri": "https://localhost:8080/"
        },
        "id": "bVr5iBmbG3DG",
        "outputId": "080adf4e-7769-4399-dab8-1dfc54a001a6"
      },
      "source": [
        "%%time\n",
        "if dataset_name == \"StatInt\":\n",
        "    bucketSize = 10\n",
        "else:\n",
        "    bucketSize = 1\n",
        "\n",
        "from IPython.display import clear_output\n",
        "trainCases = []\n",
        "results = []\n",
        "for i in range(int(len(train)/bucketSize)):\n",
        "    trainCases += train[i:i+bucketSize]\n",
        "    print (f\"Starting training on {i}/{int(len(train)/bucketSize)}\")\n",
        "    res = startTraining(trainCases, val)\n",
        "    print (res[\"weighted avg\"])\n",
        "    results.append(res)\n",
        "print (results)\n",
        "clear_output()\n",
        "save_results(\"E1\", dataset_name, results)"
      ],
      "execution_count": 14,
      "outputs": [
        {
          "output_type": "stream",
          "name": "stdout",
          "text": [
            "CPU times: user 12min 14s, sys: 1min 22s, total: 13min 36s\n",
            "Wall time: 10min 6s\n"
          ]
        }
      ]
    },
    {
      "cell_type": "code",
      "metadata": {
        "colab": {
          "base_uri": "https://localhost:8080/",
          "height": 325
        },
        "id": "4eesX7tmIC7s",
        "outputId": "83d55eec-f1f1-46e1-e7f5-f7e8d0cab3dc"
      },
      "source": [
        "%matplotlib inline\n",
        "\n",
        "results = load_results(\"E1\", dataset_name)\n",
        "import matplotlib.pyplot as plt\n",
        "plt.rcParams.update({'font.size': 14})\n",
        "\n",
        "import numpy as np\n",
        "\n",
        "fig = plt.figure()\n",
        "ax = plt.axes()\n",
        "\n",
        "\n",
        "\n",
        "resultsList = [0]+[dat['weighted avg']['f1-score'] for dat in results]\n",
        "ax.plot(resultsList, label=\"weighted avg f1-score\");\n",
        "ax.set_ylim([0,1])\n",
        "plt.legend()\n",
        "\n",
        "plt.ylabel(\"Weighted avg F1-score\")\n",
        "plt.xlabel(\"N documents used for training\")\n",
        "plt.title(f'F1-scores for {dataset_name}')\n",
        "plt.legend(loc=\"lower right\")\n",
        "plt.savefig(f'images/E1-{dataset_name}-overall')"
      ],
      "execution_count": 15,
      "outputs": [
        {
          "output_type": "stream",
          "name": "stdout",
          "text": [
            "Loading results/E1-BVA.json\n"
          ]
        },
        {
          "output_type": "display_data",
          "data": {
            "image/png": "[encoded data removed]",
            "text/plain": [
              "<Figure size 432x288 with 1 Axes>"
            ]
          },
          "metadata": {
            "needs_background": "light"
          }
        }
      ]
    },
    {
      "cell_type": "code",
      "metadata": {
        "colab": {
          "base_uri": "https://localhost:8080/",
          "height": 319
        },
        "id": "-FuwXDRPKXPc",
        "outputId": "99bf68d0-10bf-48b4-b104-dea14c705638"
      },
      "source": [
        "%matplotlib inline\n",
        "import matplotlib.pyplot as plt\n",
        "plt.rcParams.update({'font.size': 12})\n",
        "results = load_results(\"E1\", dataset_name)\n",
        "import numpy as np\n",
        "\n",
        "fig = plt.figure()\n",
        "ax = plt.axes()\n",
        "ax.set_ylim([0,1])\n",
        "\n",
        "plt.ylabel(\"F1-score\")\n",
        "plt.xlabel(\"N documents used for training\")\n",
        "plt.title(f'Per-label F1-scores for {dataset_name}')\n",
        "\n",
        "for senttype in unique_labels:\n",
        "    resultsList = [0]+[dat[senttype]['f1-score'] for dat in results]\n",
        "    ax.plot(resultsList, label = mapLabel(senttype));\n",
        "if dataset_name == \"BVA\":\n",
        "    plt.legend(loc=\"lower center\", ncol=2)\n",
        "elif dataset_name == \"StatInt\":\n",
        "    plt.legend(loc=\"upper left\")\n",
        "else:\n",
        "    plt.legend(loc=\"upper left\", ncol = 2)\n",
        "plt.savefig(f'images/E1-{dataset_name}-labels')"
      ],
      "execution_count": 16,
      "outputs": [
        {
          "output_type": "stream",
          "name": "stdout",
          "text": [
            "Loading results/E1-BVA.json\n"
          ]
        },
        {
          "output_type": "display_data",
          "data": {
            "image/png": "[encoded data removed]",
            "text/plain": [
              "<Figure size 432x288 with 1 Axes>"
            ]
          },
          "metadata": {
            "needs_background": "light"
          }
        }
      ]
    },
    {
      "cell_type": "markdown",
      "metadata": {
        "id": "RiHVAskr2V3F"
      },
      "source": [
        "## E2 - Split Sensitivity"
      ]
    },
    {
      "cell_type": "code",
      "metadata": {
        "colab": {
          "base_uri": "https://localhost:8080/"
        },
        "id": "ZPCjF13c2V3F",
        "outputId": "e710ddd6-5512-4c40-c5e2-761f5dd57e6d"
      },
      "source": [
        "%%time\n",
        "bucketSize = 1\n",
        "\n",
        "from sklearn.model_selection import KFold\n",
        "\n",
        "results = []\n",
        "kf = KFold(n_splits=5, shuffle=True, random_state = 42)\n",
        "for train_index, test_index in kf.split(cases):\n",
        "    trainCases = [cases[i] for i in train_index]\n",
        "    valCases = [cases[i] for i in test_index]\n",
        "    res = startTraining(trainCases, valCases)\n",
        "    results.append(res)\n",
        "print (results)\n",
        "save_results(\"E2\", dataset_name, results)\n",
        "    \n",
        "clear_output()"
      ],
      "execution_count": 17,
      "outputs": [
        {
          "output_type": "stream",
          "name": "stdout",
          "text": [
            "CPU times: user 3min 3s, sys: 23 s, total: 3min 26s\n",
            "Wall time: 2min 13s\n"
          ]
        }
      ]
    },
    {
      "cell_type": "code",
      "metadata": {
        "colab": {
          "base_uri": "https://localhost:8080/",
          "height": 319
        },
        "id": "WjivRv2rMOUY",
        "outputId": "c564a7ec-1a9c-4db2-b9d1-a4baa839fd70"
      },
      "source": [
        "%matplotlib inline\n",
        "import matplotlib.pyplot as plt\n",
        "results = load_results(\"E2\", dataset_name)\n",
        "plt.rcParams.update({'font.size': 16})\n",
        "import numpy as np\n",
        "\n",
        "import matplotlib.pyplot as plt\n",
        "import numpy as np\n",
        "\n",
        "\n",
        "\n",
        "labels = list(range(1,6))\n",
        "x = np.arange(len(labels))  \n",
        "width = 0.5  \n",
        "fig, ax = plt.subplots()\n",
        "ax.set_ylim([0,1])\n",
        "\n",
        "resultsList = [dat['macro avg']['f1-score'] for dat in results]\n",
        "ax.bar(x, resultsList, width)\n",
        "\n",
        "\n",
        "ax.set_ylabel('Avg weighted F1-score')\n",
        "ax.set_xlabel('Fold')\n",
        "ax.set_title(f'F1-scores per fold for {dataset_name}')\n",
        "ax.set_xticks(x)\n",
        "ax.set_xticklabels(labels)\n",
        "ax.legend()\n",
        "\n",
        "fig.tight_layout()\n",
        "\n",
        "plt.savefig(f'images/E2-{dataset_name}-overall')"
      ],
      "execution_count": 18,
      "outputs": [
        {
          "output_type": "stream",
          "name": "stderr",
          "text": [
            "WARNING:matplotlib.legend:No handles with labels found to put in legend.\n"
          ]
        },
        {
          "output_type": "stream",
          "name": "stdout",
          "text": [
            "Loading results/E2-BVA.json\n"
          ]
        },
        {
          "output_type": "display_data",
          "data": {
            "image/png": "[encoded data removed]",
            "text/plain": [
              "<Figure size 432x288 with 1 Axes>"
            ]
          },
          "metadata": {
            "needs_background": "light"
          }
        }
      ]
    },
    {
      "cell_type": "code",
      "metadata": {
        "colab": {
          "base_uri": "https://localhost:8080/",
          "height": 319
        },
        "id": "oSEezEFZMsww",
        "outputId": "842e687b-8829-4aee-8d3d-2c240c4c57b3"
      },
      "source": [
        "import matplotlib.pyplot as plt\n",
        "import numpy as np\n",
        "results = load_results(\"E2\", dataset_name)\n",
        "plt.rcParams.update({'font.size': 12})\n",
        "\n",
        "labels = list(range(1,6))\n",
        "x = np.arange(len(labels))  \n",
        "width = 0.1  \n",
        "\n",
        "fig, ax = plt.subplots()\n",
        "\n",
        "for i, senttype in enumerate(unique_labels):\n",
        "    resultsList = [dat[senttype]['f1-score'] for dat in results]\n",
        "    rects = ax.bar(x + width*i-num_labels*width*0.5, resultsList, width, label=mapLabel(senttype))\n",
        "\n",
        "ax.set_ylim([0,1])\n",
        "ax.set_ylabel('F1-score')\n",
        "ax.set_xlabel('Fold')\n",
        "ax.set_title(f'F1-scores per fold and class for {dataset_name}')\n",
        "ax.set_xticks(x)\n",
        "ax.set_xticklabels(labels)\n",
        "\n",
        "\n",
        "if dataset_name == \"BVA\":\n",
        "    plt.legend(loc=\"lower center\", ncol=2)\n",
        "elif dataset_name == \"StatInt\":\n",
        "    plt.legend(loc=\"lower left\")\n",
        "else:\n",
        "    plt.legend(loc=\"upper center\", ncol = 2)\n",
        "\n",
        "plt.savefig(f'images/E2-{dataset_name}-labels')"
      ],
      "execution_count": 19,
      "outputs": [
        {
          "output_type": "stream",
          "name": "stdout",
          "text": [
            "Loading results/E2-BVA.json\n"
          ]
        },
        {
          "output_type": "display_data",
          "data": {
            "image/png": "[encoded data removed]",
            "text/plain": [
              "<Figure size 432x288 with 1 Axes>"
            ]
          },
          "metadata": {
            "needs_background": "light"
          }
        }
      ]
    },
    {
      "cell_type": "markdown",
      "metadata": {
        "id": "JAQUP7E24sZr"
      },
      "source": [
        "## E3 - Error Sensitivity"
      ]
    },
    {
      "cell_type": "code",
      "metadata": {
        "colab": {
          "base_uri": "https://localhost:8080/"
        },
        "id": "q5FsjHwq4sZr",
        "outputId": "bc112433-2c68-402a-dbbb-e7ac0e2b89e7"
      },
      "source": [
        "%%time\n",
        "\n",
        "#Ranodmly mutate\n",
        "import copy\n",
        "import random\n",
        "\n",
        "from sklearn.model_selection import KFold\n",
        "\n",
        "results = []\n",
        "jumpSize = 10\n",
        "\n",
        "for i in range(11):\n",
        "    trainCases = copy.deepcopy(train)\n",
        "    changes = 0\n",
        "    for case in trainCases:\n",
        "        for li in range(len(case[\"labels\"])):\n",
        "            if random.randint(0,99)<i*jumpSize:\n",
        "                currLabel = case[\"labels\"][li]\n",
        "                possibleLabels = list(range(num_labels))\n",
        "                possibleLabels.remove(currLabel)\n",
        "                newLabel = random.choice(possibleLabels)\n",
        "                case[\"labels\"][li] = newLabel\n",
        "                changes += 1\n",
        "    print (f\"Performed {changes} changes.\")\n",
        "    res = startTraining(trainCases, val)\n",
        "    results.append(res)\n",
        "print (results)\n",
        "\n",
        "mutation_mode = \"random\"\n",
        "save_results(\"E3-\"+mutation_mode, dataset_name, results)\n",
        "    \n",
        "clear_output()"
      ],
      "execution_count": 20,
      "outputs": [
        {
          "output_type": "stream",
          "name": "stdout",
          "text": [
            "CPU times: user 5min 36s, sys: 38.4 s, total: 6min 14s\n",
            "Wall time: 4min 10s\n"
          ]
        }
      ]
    },
    {
      "cell_type": "code",
      "metadata": {
        "colab": {
          "base_uri": "https://localhost:8080/",
          "height": 311
        },
        "id": "eYlHV4aH4sZr",
        "outputId": "d0288518-6724-49c8-e58d-8d36d9e42ef7"
      },
      "source": [
        "%matplotlib inline\n",
        "import matplotlib.pyplot as plt\n",
        "results = load_results(\"E3-\"+mutation_mode, dataset_name)\n",
        "import numpy as np\n",
        "plt.rcParams.update({'font.size': 12})\n",
        "\n",
        "fig = plt.figure()\n",
        "ax = plt.axes()\n",
        "\n",
        "resultsList = [dat['weighted avg']['f1-score'] for dat in results]\n",
        "xs = [i*jumpSize for i in range(len(resultsList))]\n",
        "\n",
        "ax.plot(xs, resultsList, label=\"weighted avg\");\n",
        "ax.set_ylabel('F1-score')\n",
        "ax.set_xlabel('Percentage of spoiled data')\n",
        "ax.set_title(f'F1-scores per percentage of spoiled data for {dataset_name}')\n",
        "ax.set_ylim([0,1])\n",
        "ax.legend()\n",
        "\n",
        "fig.tight_layout()\n",
        "plt.savefig(f'images/E3-{dataset_name}-{mutation_mode}-overall')"
      ],
      "execution_count": 21,
      "outputs": [
        {
          "output_type": "stream",
          "name": "stdout",
          "text": [
            "Loading results/E3-random-BVA.json\n"
          ]
        },
        {
          "output_type": "display_data",
          "data": {
            "image/png": "[encoded data removed]",
            "text/plain": [
              "<Figure size 432x288 with 1 Axes>"
            ]
          },
          "metadata": {
            "needs_background": "light"
          }
        }
      ]
    },
    {
      "cell_type": "code",
      "metadata": {
        "colab": {
          "base_uri": "https://localhost:8080/",
          "height": 319
        },
        "id": "tOe84RQ64sZr",
        "outputId": "e232eb4e-81b7-4737-b64e-39673ed3ed12"
      },
      "source": [
        "%matplotlib inline\n",
        "import matplotlib.pyplot as plt\n",
        "results = load_results(\"E3-\"+mutation_mode, dataset_name)\n",
        "import numpy as np\n",
        "plt.rcParams.update({'font.size': 12})\n",
        "\n",
        "\n",
        "fig = plt.figure()\n",
        "ax = plt.axes()\n",
        "\n",
        "ax.set_ylabel('F1-score')\n",
        "ax.set_xlabel('Percentage of spoiled data')\n",
        "ax.set_title(f'F1-scores per percentage of spoiled data per label for {dataset_name}')\n",
        "\n",
        "\n",
        "ax.set_ylim([0,1])\n",
        "\n",
        "for senttype in unique_labels:\n",
        "    resultsList = [dat[senttype]['f1-score'] for dat in results]\n",
        "    xs = [i*jumpSize for i in range(len(resultsList))]\n",
        "    ax.plot(xs, resultsList, label = mapLabel(senttype));\n",
        "if mutation_mode == \"random\":\n",
        "    if dataset_name == \"BVA\":\n",
        "        plt.legend(loc=\"lower left\")\n",
        "    elif dataset_name == \"StatInt\":\n",
        "        plt.legend(loc=\"upper right\", ncol=2)\n",
        "    else:\n",
        "        plt.legend(loc=\"upper left\", ncol = 2)\n",
        "else:\n",
        "    if dataset_name == \"BVA\":\n",
        "        plt.legend(loc=\"upper right\")\n",
        "    elif dataset_name == \"StatInt\":\n",
        "        plt.legend(loc=\"upper right\")\n",
        "    else:\n",
        "        plt.legend(loc=\"upper left\", ncol = 2)\n",
        "\n",
        "plt.savefig(f'images/E3-{dataset_name}-{mutation_mode}-labels')"
      ],
      "execution_count": 22,
      "outputs": [
        {
          "output_type": "stream",
          "name": "stdout",
          "text": [
            "Loading results/E3-random-BVA.json\n"
          ]
        },
        {
          "output_type": "display_data",
          "data": {
            "image/png": "[encoded data removed]",
            "text/plain": [
              "<Figure size 432x288 with 1 Axes>"
            ]
          },
          "metadata": {
            "needs_background": "light"
          }
        }
      ]
    },
    {
      "cell_type": "markdown",
      "metadata": {
        "id": "1g7X44z-Mabt"
      },
      "source": [
        ""
      ]
    }
  ]
}